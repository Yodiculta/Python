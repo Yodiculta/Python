{
 "cells": [
  {
   "cell_type": "raw",
   "metadata": {},
   "source": [
    "1. Поработайте с переменными, создайте несколько, выведите на экран, запросите у пользователя несколько чисел и строк и сохраните в переменные, выведите на экран."
   ]
  },
  {
   "cell_type": "code",
   "execution_count": 2,
   "metadata": {},
   "outputs": [
    {
     "name": "stdout",
     "output_type": "stream",
     "text": [
      "1\n",
      "3\n",
      "3\n",
      "5\n"
     ]
    }
   ],
   "source": [
    "a=1\n",
    "b=2\n",
    "print(a)\n",
    "print(a+b)\n",
    "d=int(input())\n",
    "print(d+b)"
   ]
  },
  {
   "cell_type": "raw",
   "metadata": {},
   "source": [
    "2. Пользователь вводит время в секундах. Переведите время в часы, минуты и секунды и выведите в формате чч:мм:сс. Используйте форматирование строк."
   ]
  },
  {
   "cell_type": "code",
   "execution_count": 13,
   "metadata": {},
   "outputs": [
    {
     "name": "stdout",
     "output_type": "stream",
     "text": [
      "7345\n",
      "2:2:25\n"
     ]
    }
   ],
   "source": [
    "d=int(input())\n",
    "mins=d//60\n",
    "sec=d%60\n",
    "hour=mins//60\n",
    "mins=mins%60\n",
    "print('{0}:{1}:{2}'.format(hour, mins, sec))"
   ]
  },
  {
   "cell_type": "raw",
   "metadata": {},
   "source": [
    "3. Узнайте у пользователя число n. Найдите сумму чисел n + nn + nnn. Например, пользователь ввёл число 3. Считаем 3 + 33 + 333 = 369."
   ]
  },
  {
   "cell_type": "code",
   "execution_count": 16,
   "metadata": {},
   "outputs": [
    {
     "name": "stdout",
     "output_type": "stream",
     "text": [
      "3\n",
      "369\n"
     ]
    }
   ],
   "source": [
    "d=input()\n",
    "print(int(d)+int(d+d)+int(d+d+d))"
   ]
  },
  {
   "cell_type": "raw",
   "metadata": {},
   "source": [
    "4. Пользователь вводит целое положительное число. Найдите самую большую цифру в числе. Для решения используйте цикл while и арифметические операции."
   ]
  },
  {
   "cell_type": "code",
   "execution_count": 17,
   "metadata": {},
   "outputs": [
    {
     "name": "stdout",
     "output_type": "stream",
     "text": [
      "23923\n",
      "9\n"
     ]
    }
   ],
   "source": [
    "d=input()\n",
    "max=0\n",
    "for i in d:\n",
    "    if int(i)>max:\n",
    "        max=int(i)\n",
    "print(max)"
   ]
  },
  {
   "cell_type": "raw",
   "metadata": {},
   "source": [
    "5. Запросите у пользователя значения выручки и издержек фирмы. Определите, с каким финансовым результатом работает фирма (прибыль — выручка больше издержек, или убыток — издержки больше выручки). Выведите соответствующее сообщение. Если фирма отработала с прибылью, вычислите рентабельность выручки (соотношение прибыли к выручке). Далее запросите численность сотрудников фирмы и определите прибыль фирмы в расчете на одного сотрудника."
   ]
  },
  {
   "cell_type": "code",
   "execution_count": 19,
   "metadata": {},
   "outputs": [
    {
     "name": "stdout",
     "output_type": "stream",
     "text": [
      "значения выручки\n",
      "13\n",
      "издержек фирмы\n",
      "10\n",
      "прибыль c рентабельностью 0.3\n",
      "численность сотрудников фирмы\n",
      "10\n",
      "прибыль фирмы в расчете на одного сотрудника:0.3\n"
     ]
    }
   ],
   "source": [
    "print(\"значения выручки\")\n",
    "v1=input()\n",
    "print(\"издержек фирмы\")\n",
    "v2=input()\n",
    "if int(v1)>int(v2):\n",
    "    prib=int(v1)-int(v2)\n",
    "    rent=prib/int(v2)\n",
    "    print(\"прибыль c рентабельностью {0}\".format(rent))\n",
    "    print(\"численность сотрудников фирмы\")\n",
    "    v3=input()      \n",
    "    print(\"прибыль фирмы в расчете на одного сотрудника:{0}\".format(prib/int(v3)))\n",
    "else:\n",
    "    print(\"убыток\")\n",
    "    "
   ]
  },
  {
   "cell_type": "raw",
   "metadata": {},
   "source": [
    "6. Спортсмен занимается ежедневными пробежками. В первый день его результат составил a километров. Каждый день спортсмен увеличивал результат на 10 % относительно предыдущего. Требуется определить номер дня, на который общий результат спортсмена составить не менее b километров. Программа должна принимать значения параметров a и b и выводить одно натуральное число — номер дня.\n",
    "Например: a = 2, b = 3.\n",
    "Результат:\n",
    "1-й день: 2\n",
    "2-й день: 2,2\n",
    "3-й день: 2,42\n",
    "4-й день: 2,66\n",
    "5-й день: 2,93\n",
    "6-й день: 3,22\n",
    "\n",
    "Ответ: на 6-й день спортсмен достиг результата — не менее 3 км."
   ]
  },
  {
   "cell_type": "code",
   "execution_count": 35,
   "metadata": {},
   "outputs": [
    {
     "name": "stdout",
     "output_type": "stream",
     "text": [
      "2\n",
      "3\n",
      "6\n"
     ]
    }
   ],
   "source": [
    "def sport(a,b,i):\n",
    "    if a<b:\n",
    "        i+=1\n",
    "        sport(a*1.1, b, i)\n",
    "    else:\n",
    "        print(i)\n",
    "a=input()\n",
    "b=input()\n",
    "sport(int(a), int(b),1)"
   ]
  },
  {
   "cell_type": "code",
   "execution_count": 37,
   "metadata": {},
   "outputs": [
    {
     "name": "stdout",
     "output_type": "stream",
     "text": [
      "2\n",
      "3\n",
      "6\n"
     ]
    }
   ],
   "source": [
    "def sport2(a,b):\n",
    "    i=1\n",
    "    while a<b:\n",
    "        i+=1\n",
    "        a*=1.1\n",
    "    else:\n",
    "        print(i)\n",
    "a=input()\n",
    "b=input()\n",
    "sport2(int(a), int(b))"
   ]
  }
 ],
 "metadata": {
  "kernelspec": {
   "display_name": "Python 3",
   "language": "python",
   "name": "python3"
  },
  "language_info": {
   "codemirror_mode": {
    "name": "ipython",
    "version": 3
   },
   "file_extension": ".py",
   "mimetype": "text/x-python",
   "name": "python",
   "nbconvert_exporter": "python",
   "pygments_lexer": "ipython3",
   "version": "3.7.4"
  }
 },
 "nbformat": 4,
 "nbformat_minor": 2
}
